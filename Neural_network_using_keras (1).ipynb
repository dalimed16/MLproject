{
  "nbformat": 4,
  "nbformat_minor": 0,
  "metadata": {
    "kernelspec": {
      "display_name": "Python 3",
      "language": "python",
      "name": "python3"
    },
    "language_info": {
      "codemirror_mode": {
        "name": "ipython",
        "version": 3
      },
      "file_extension": ".py",
      "mimetype": "text/x-python",
      "name": "python",
      "nbconvert_exporter": "python",
      "pygments_lexer": "ipython3",
      "version": "3.6.5"
    },
    "colab": {
      "name": "Neural_network_using_keras.ipynb",
      "provenance": [],
      "collapsed_sections": []
    }
  },
  "cells": [
    {
      "cell_type": "code",
      "metadata": {
        "id": "6tWyJKezHghv"
      },
      "source": [
        "#importing important libraries\n",
        "from keras.models import Sequential\n",
        "from keras.layers import Dense\n",
        "import pandas as pd\n",
        "import numpy as np\n",
        "import numpy\n",
        "import matplotlib.pyplot as plt\n"
      ],
      "execution_count": null,
      "outputs": []
    },
    {
      "cell_type": "code",
      "metadata": {
        "colab": {
          "base_uri": "https://localhost:8080/",
          "height": 206
        },
        "id": "a8aJJ-AnHgh0",
        "outputId": "5540e69b-8912-4137-b78c-1759b9489fa9"
      },
      "source": [
        "#load and see first five rows of datasets\n",
        "df = pd.read_csv('/content/sample_data/pima-indians-diabetes.data.csv', header=None)\n",
        "df.head()"
      ],
      "execution_count": null,
      "outputs": [
        {
          "output_type": "execute_result",
          "data": {
            "text/html": [
              "<div>\n",
              "<style scoped>\n",
              "    .dataframe tbody tr th:only-of-type {\n",
              "        vertical-align: middle;\n",
              "    }\n",
              "\n",
              "    .dataframe tbody tr th {\n",
              "        vertical-align: top;\n",
              "    }\n",
              "\n",
              "    .dataframe thead th {\n",
              "        text-align: right;\n",
              "    }\n",
              "</style>\n",
              "<table border=\"1\" class=\"dataframe\">\n",
              "  <thead>\n",
              "    <tr style=\"text-align: right;\">\n",
              "      <th></th>\n",
              "      <th>0</th>\n",
              "      <th>1</th>\n",
              "      <th>2</th>\n",
              "      <th>3</th>\n",
              "      <th>4</th>\n",
              "      <th>5</th>\n",
              "      <th>6</th>\n",
              "      <th>7</th>\n",
              "      <th>8</th>\n",
              "    </tr>\n",
              "  </thead>\n",
              "  <tbody>\n",
              "    <tr>\n",
              "      <th>0</th>\n",
              "      <td>6</td>\n",
              "      <td>148</td>\n",
              "      <td>72</td>\n",
              "      <td>35</td>\n",
              "      <td>0</td>\n",
              "      <td>33.6</td>\n",
              "      <td>0.627</td>\n",
              "      <td>50</td>\n",
              "      <td>1</td>\n",
              "    </tr>\n",
              "    <tr>\n",
              "      <th>1</th>\n",
              "      <td>1</td>\n",
              "      <td>85</td>\n",
              "      <td>66</td>\n",
              "      <td>29</td>\n",
              "      <td>0</td>\n",
              "      <td>26.6</td>\n",
              "      <td>0.351</td>\n",
              "      <td>31</td>\n",
              "      <td>0</td>\n",
              "    </tr>\n",
              "    <tr>\n",
              "      <th>2</th>\n",
              "      <td>8</td>\n",
              "      <td>183</td>\n",
              "      <td>64</td>\n",
              "      <td>0</td>\n",
              "      <td>0</td>\n",
              "      <td>23.3</td>\n",
              "      <td>0.672</td>\n",
              "      <td>32</td>\n",
              "      <td>1</td>\n",
              "    </tr>\n",
              "    <tr>\n",
              "      <th>3</th>\n",
              "      <td>1</td>\n",
              "      <td>89</td>\n",
              "      <td>66</td>\n",
              "      <td>23</td>\n",
              "      <td>94</td>\n",
              "      <td>28.1</td>\n",
              "      <td>0.167</td>\n",
              "      <td>21</td>\n",
              "      <td>0</td>\n",
              "    </tr>\n",
              "    <tr>\n",
              "      <th>4</th>\n",
              "      <td>0</td>\n",
              "      <td>137</td>\n",
              "      <td>40</td>\n",
              "      <td>35</td>\n",
              "      <td>168</td>\n",
              "      <td>43.1</td>\n",
              "      <td>2.288</td>\n",
              "      <td>33</td>\n",
              "      <td>1</td>\n",
              "    </tr>\n",
              "  </tbody>\n",
              "</table>\n",
              "</div>"
            ],
            "text/plain": [
              "   0    1   2   3    4     5      6   7  8\n",
              "0  6  148  72  35    0  33.6  0.627  50  1\n",
              "1  1   85  66  29    0  26.6  0.351  31  0\n",
              "2  8  183  64   0    0  23.3  0.672  32  1\n",
              "3  1   89  66  23   94  28.1  0.167  21  0\n",
              "4  0  137  40  35  168  43.1  2.288  33  1"
            ]
          },
          "metadata": {},
          "execution_count": 42
        }
      ]
    },
    {
      "cell_type": "code",
      "metadata": {
        "id": "2XiYcXfyHgh1"
      },
      "source": [
        "#choosing X and y\n",
        "X = df.drop(8, axis = 1)\n",
        "y = df[8]"
      ],
      "execution_count": null,
      "outputs": []
    },
    {
      "cell_type": "code",
      "metadata": {
        "id": "vdY8BmHmHgh2"
      },
      "source": [
        "#scaling the data\n",
        "from sklearn.preprocessing import scale\n",
        "X = scale(X)"
      ],
      "execution_count": null,
      "outputs": []
    },
    {
      "cell_type": "code",
      "metadata": {
        "id": "hNTWu0PoHgh2"
      },
      "source": [
        "#spiltting data into train and test\n",
        "from sklearn.model_selection import train_test_split\n",
        "X_train, X_test, y_train, y_test = train_test_split(X, y, test_size=0.33, random_state=42)"
      ],
      "execution_count": null,
      "outputs": []
    },
    {
      "cell_type": "code",
      "metadata": {
        "id": "sRiOfNzjHgh2"
      },
      "source": [
        "#one hot encoding\n",
        "from keras.utils import np_utils\n",
        "y_train = np_utils.to_categorical(y_train)"
      ],
      "execution_count": null,
      "outputs": []
    },
    {
      "cell_type": "code",
      "metadata": {
        "id": "Eibe3_cNHgh3"
      },
      "source": [
        "#Defining and desining neural network model\n",
        "model = Sequential()\n",
        "model.add(Dense(12, input_dim=8, activation='relu'))\n",
        "model.add(Dense(8, activation='relu'))\n",
        "model.add(Dense(2, activation='sigmoid'))"
      ],
      "execution_count": null,
      "outputs": []
    },
    {
      "cell_type": "code",
      "metadata": {
        "id": "yteoosuIHgh4"
      },
      "source": [
        "# Compiling model\n",
        "model.compile(loss='binary_crossentropy', optimizer='adam', metrics=['accuracy'])"
      ],
      "execution_count": null,
      "outputs": []
    },
    {
      "cell_type": "code",
      "metadata": {
        "colab": {
          "base_uri": "https://localhost:8080/"
        },
        "id": "OBPsyBZ_Hgh4",
        "outputId": "a362a4e1-9fdc-4b4e-e0f0-7a02d2a89112"
      },
      "source": [
        "# training model\n",
        "history = model.fit(X_train, y_train, epochs=150, batch_size=10)"
      ],
      "execution_count": null,
      "outputs": [
        {
          "output_type": "stream",
          "name": "stdout",
          "text": [
            "Epoch 1/150\n",
            "52/52 [==============================] - 1s 2ms/step - loss: 0.6790 - accuracy: 0.6381\n",
            "Epoch 2/150\n",
            "52/52 [==============================] - 0s 2ms/step - loss: 0.6356 - accuracy: 0.6576\n",
            "Epoch 3/150\n",
            "52/52 [==============================] - 0s 1ms/step - loss: 0.5963 - accuracy: 0.6809\n",
            "Epoch 4/150\n",
            "52/52 [==============================] - 0s 2ms/step - loss: 0.5621 - accuracy: 0.7062\n",
            "Epoch 5/150\n",
            "52/52 [==============================] - 0s 2ms/step - loss: 0.5340 - accuracy: 0.7315\n",
            "Epoch 6/150\n",
            "52/52 [==============================] - 0s 2ms/step - loss: 0.5113 - accuracy: 0.7588\n",
            "Epoch 7/150\n",
            "52/52 [==============================] - 0s 2ms/step - loss: 0.4929 - accuracy: 0.7724\n",
            "Epoch 8/150\n",
            "52/52 [==============================] - 0s 2ms/step - loss: 0.4795 - accuracy: 0.7821\n",
            "Epoch 9/150\n",
            "52/52 [==============================] - 0s 2ms/step - loss: 0.4691 - accuracy: 0.7840\n",
            "Epoch 10/150\n",
            "52/52 [==============================] - 0s 2ms/step - loss: 0.4611 - accuracy: 0.7724\n",
            "Epoch 11/150\n",
            "52/52 [==============================] - 0s 2ms/step - loss: 0.4540 - accuracy: 0.7763\n",
            "Epoch 12/150\n",
            "52/52 [==============================] - 0s 2ms/step - loss: 0.4488 - accuracy: 0.7802\n",
            "Epoch 13/150\n",
            "52/52 [==============================] - 0s 2ms/step - loss: 0.4447 - accuracy: 0.7840\n",
            "Epoch 14/150\n",
            "52/52 [==============================] - 0s 2ms/step - loss: 0.4413 - accuracy: 0.7860\n",
            "Epoch 15/150\n",
            "52/52 [==============================] - 0s 2ms/step - loss: 0.4383 - accuracy: 0.7860\n",
            "Epoch 16/150\n",
            "52/52 [==============================] - 0s 2ms/step - loss: 0.4369 - accuracy: 0.7840\n",
            "Epoch 17/150\n",
            "52/52 [==============================] - 0s 2ms/step - loss: 0.4338 - accuracy: 0.7879\n",
            "Epoch 18/150\n",
            "52/52 [==============================] - 0s 2ms/step - loss: 0.4318 - accuracy: 0.7899\n",
            "Epoch 19/150\n",
            "52/52 [==============================] - 0s 2ms/step - loss: 0.4294 - accuracy: 0.7899\n",
            "Epoch 20/150\n",
            "52/52 [==============================] - 0s 2ms/step - loss: 0.4282 - accuracy: 0.7918\n",
            "Epoch 21/150\n",
            "52/52 [==============================] - 0s 2ms/step - loss: 0.4264 - accuracy: 0.7899\n",
            "Epoch 22/150\n",
            "52/52 [==============================] - 0s 2ms/step - loss: 0.4247 - accuracy: 0.7918\n",
            "Epoch 23/150\n",
            "52/52 [==============================] - 0s 2ms/step - loss: 0.4236 - accuracy: 0.7860\n",
            "Epoch 24/150\n",
            "52/52 [==============================] - 0s 1ms/step - loss: 0.4216 - accuracy: 0.7899\n",
            "Epoch 25/150\n",
            "52/52 [==============================] - 0s 1ms/step - loss: 0.4201 - accuracy: 0.7899\n",
            "Epoch 26/150\n",
            "52/52 [==============================] - 0s 1ms/step - loss: 0.4188 - accuracy: 0.7938\n",
            "Epoch 27/150\n",
            "52/52 [==============================] - 0s 2ms/step - loss: 0.4184 - accuracy: 0.7957\n",
            "Epoch 28/150\n",
            "52/52 [==============================] - 0s 2ms/step - loss: 0.4164 - accuracy: 0.7938\n",
            "Epoch 29/150\n",
            "52/52 [==============================] - 0s 2ms/step - loss: 0.4156 - accuracy: 0.7918\n",
            "Epoch 30/150\n",
            "52/52 [==============================] - 0s 2ms/step - loss: 0.4138 - accuracy: 0.7899\n",
            "Epoch 31/150\n",
            "52/52 [==============================] - 0s 2ms/step - loss: 0.4126 - accuracy: 0.7957\n",
            "Epoch 32/150\n",
            "52/52 [==============================] - 0s 2ms/step - loss: 0.4114 - accuracy: 0.7957\n",
            "Epoch 33/150\n",
            "52/52 [==============================] - 0s 2ms/step - loss: 0.4100 - accuracy: 0.7918\n",
            "Epoch 34/150\n",
            "52/52 [==============================] - 0s 2ms/step - loss: 0.4094 - accuracy: 0.7957\n",
            "Epoch 35/150\n",
            "52/52 [==============================] - 0s 2ms/step - loss: 0.4085 - accuracy: 0.7938\n",
            "Epoch 36/150\n",
            "52/52 [==============================] - 0s 2ms/step - loss: 0.4072 - accuracy: 0.7938\n",
            "Epoch 37/150\n",
            "52/52 [==============================] - 0s 2ms/step - loss: 0.4057 - accuracy: 0.8016\n",
            "Epoch 38/150\n",
            "52/52 [==============================] - 0s 2ms/step - loss: 0.4067 - accuracy: 0.8016\n",
            "Epoch 39/150\n",
            "52/52 [==============================] - 0s 1ms/step - loss: 0.4048 - accuracy: 0.8035\n",
            "Epoch 40/150\n",
            "52/52 [==============================] - 0s 2ms/step - loss: 0.4044 - accuracy: 0.7977\n",
            "Epoch 41/150\n",
            "52/52 [==============================] - 0s 2ms/step - loss: 0.4020 - accuracy: 0.8054\n",
            "Epoch 42/150\n",
            "52/52 [==============================] - 0s 2ms/step - loss: 0.4016 - accuracy: 0.7957\n",
            "Epoch 43/150\n",
            "52/52 [==============================] - 0s 1ms/step - loss: 0.4004 - accuracy: 0.8093\n",
            "Epoch 44/150\n",
            "52/52 [==============================] - 0s 2ms/step - loss: 0.4002 - accuracy: 0.8093\n",
            "Epoch 45/150\n",
            "52/52 [==============================] - 0s 2ms/step - loss: 0.3994 - accuracy: 0.8054\n",
            "Epoch 46/150\n",
            "52/52 [==============================] - 0s 2ms/step - loss: 0.3984 - accuracy: 0.8054\n",
            "Epoch 47/150\n",
            "52/52 [==============================] - 0s 1ms/step - loss: 0.3973 - accuracy: 0.8132\n",
            "Epoch 48/150\n",
            "52/52 [==============================] - 0s 2ms/step - loss: 0.3971 - accuracy: 0.8132\n",
            "Epoch 49/150\n",
            "52/52 [==============================] - 0s 2ms/step - loss: 0.3960 - accuracy: 0.8113\n",
            "Epoch 50/150\n",
            "52/52 [==============================] - 0s 1ms/step - loss: 0.3947 - accuracy: 0.8113\n",
            "Epoch 51/150\n",
            "52/52 [==============================] - 0s 2ms/step - loss: 0.3937 - accuracy: 0.8171\n",
            "Epoch 52/150\n",
            "52/52 [==============================] - 0s 2ms/step - loss: 0.3931 - accuracy: 0.8191\n",
            "Epoch 53/150\n",
            "52/52 [==============================] - 0s 2ms/step - loss: 0.3932 - accuracy: 0.8113\n",
            "Epoch 54/150\n",
            "52/52 [==============================] - 0s 2ms/step - loss: 0.3923 - accuracy: 0.8132\n",
            "Epoch 55/150\n",
            "52/52 [==============================] - 0s 2ms/step - loss: 0.3910 - accuracy: 0.8132\n",
            "Epoch 56/150\n",
            "52/52 [==============================] - 0s 2ms/step - loss: 0.3902 - accuracy: 0.8132\n",
            "Epoch 57/150\n",
            "52/52 [==============================] - 0s 2ms/step - loss: 0.3896 - accuracy: 0.8152\n",
            "Epoch 58/150\n",
            "52/52 [==============================] - 0s 2ms/step - loss: 0.3906 - accuracy: 0.8113\n",
            "Epoch 59/150\n",
            "52/52 [==============================] - 0s 2ms/step - loss: 0.3887 - accuracy: 0.8191\n",
            "Epoch 60/150\n",
            "52/52 [==============================] - 0s 1ms/step - loss: 0.3877 - accuracy: 0.8152\n",
            "Epoch 61/150\n",
            "52/52 [==============================] - 0s 2ms/step - loss: 0.3881 - accuracy: 0.8152\n",
            "Epoch 62/150\n",
            "52/52 [==============================] - 0s 2ms/step - loss: 0.3865 - accuracy: 0.8171\n",
            "Epoch 63/150\n",
            "52/52 [==============================] - 0s 2ms/step - loss: 0.3858 - accuracy: 0.8191\n",
            "Epoch 64/150\n",
            "52/52 [==============================] - 0s 2ms/step - loss: 0.3852 - accuracy: 0.8171\n",
            "Epoch 65/150\n",
            "52/52 [==============================] - 0s 2ms/step - loss: 0.3848 - accuracy: 0.8152\n",
            "Epoch 66/150\n",
            "52/52 [==============================] - 0s 2ms/step - loss: 0.3847 - accuracy: 0.8171\n",
            "Epoch 67/150\n",
            "52/52 [==============================] - 0s 2ms/step - loss: 0.3839 - accuracy: 0.8191\n",
            "Epoch 68/150\n",
            "52/52 [==============================] - 0s 1ms/step - loss: 0.3845 - accuracy: 0.8171\n",
            "Epoch 69/150\n",
            "52/52 [==============================] - 0s 2ms/step - loss: 0.3820 - accuracy: 0.8171\n",
            "Epoch 70/150\n",
            "52/52 [==============================] - 0s 2ms/step - loss: 0.3827 - accuracy: 0.8230\n",
            "Epoch 71/150\n",
            "52/52 [==============================] - 0s 2ms/step - loss: 0.3812 - accuracy: 0.8191\n",
            "Epoch 72/150\n",
            "52/52 [==============================] - 0s 1ms/step - loss: 0.3813 - accuracy: 0.8230\n",
            "Epoch 73/150\n",
            "52/52 [==============================] - 0s 1ms/step - loss: 0.3811 - accuracy: 0.8191\n",
            "Epoch 74/150\n",
            "52/52 [==============================] - 0s 2ms/step - loss: 0.3804 - accuracy: 0.8268\n",
            "Epoch 75/150\n",
            "52/52 [==============================] - 0s 2ms/step - loss: 0.3798 - accuracy: 0.8230\n",
            "Epoch 76/150\n",
            "52/52 [==============================] - 0s 1ms/step - loss: 0.3809 - accuracy: 0.8230\n",
            "Epoch 77/150\n",
            "52/52 [==============================] - 0s 2ms/step - loss: 0.3786 - accuracy: 0.8210\n",
            "Epoch 78/150\n",
            "52/52 [==============================] - 0s 1ms/step - loss: 0.3783 - accuracy: 0.8230\n",
            "Epoch 79/150\n",
            "52/52 [==============================] - 0s 2ms/step - loss: 0.3775 - accuracy: 0.8249\n",
            "Epoch 80/150\n",
            "52/52 [==============================] - 0s 2ms/step - loss: 0.3770 - accuracy: 0.8230\n",
            "Epoch 81/150\n",
            "52/52 [==============================] - 0s 2ms/step - loss: 0.3766 - accuracy: 0.8288\n",
            "Epoch 82/150\n",
            "52/52 [==============================] - 0s 2ms/step - loss: 0.3765 - accuracy: 0.8307\n",
            "Epoch 83/150\n",
            "52/52 [==============================] - 0s 2ms/step - loss: 0.3759 - accuracy: 0.8268\n",
            "Epoch 84/150\n",
            "52/52 [==============================] - 0s 2ms/step - loss: 0.3752 - accuracy: 0.8230\n",
            "Epoch 85/150\n",
            "52/52 [==============================] - 0s 2ms/step - loss: 0.3735 - accuracy: 0.8249\n",
            "Epoch 86/150\n",
            "52/52 [==============================] - 0s 1ms/step - loss: 0.3730 - accuracy: 0.8268\n",
            "Epoch 87/150\n",
            "52/52 [==============================] - 0s 2ms/step - loss: 0.3725 - accuracy: 0.8288\n",
            "Epoch 88/150\n",
            "52/52 [==============================] - 0s 1ms/step - loss: 0.3731 - accuracy: 0.8288\n",
            "Epoch 89/150\n",
            "52/52 [==============================] - 0s 2ms/step - loss: 0.3718 - accuracy: 0.8327\n",
            "Epoch 90/150\n",
            "52/52 [==============================] - 0s 2ms/step - loss: 0.3711 - accuracy: 0.8346\n",
            "Epoch 91/150\n",
            "52/52 [==============================] - 0s 2ms/step - loss: 0.3709 - accuracy: 0.8327\n",
            "Epoch 92/150\n",
            "52/52 [==============================] - 0s 2ms/step - loss: 0.3702 - accuracy: 0.8288\n",
            "Epoch 93/150\n",
            "52/52 [==============================] - 0s 2ms/step - loss: 0.3696 - accuracy: 0.8288\n",
            "Epoch 94/150\n",
            "52/52 [==============================] - 0s 2ms/step - loss: 0.3686 - accuracy: 0.8307\n",
            "Epoch 95/150\n",
            "52/52 [==============================] - 0s 2ms/step - loss: 0.3672 - accuracy: 0.8288\n",
            "Epoch 96/150\n",
            "52/52 [==============================] - 0s 2ms/step - loss: 0.3673 - accuracy: 0.8366\n",
            "Epoch 97/150\n",
            "52/52 [==============================] - 0s 2ms/step - loss: 0.3671 - accuracy: 0.8327\n",
            "Epoch 98/150\n",
            "52/52 [==============================] - 0s 2ms/step - loss: 0.3670 - accuracy: 0.8366\n",
            "Epoch 99/150\n",
            "52/52 [==============================] - 0s 2ms/step - loss: 0.3664 - accuracy: 0.8327\n",
            "Epoch 100/150\n",
            "52/52 [==============================] - 0s 2ms/step - loss: 0.3657 - accuracy: 0.8307\n",
            "Epoch 101/150\n",
            "52/52 [==============================] - 0s 2ms/step - loss: 0.3638 - accuracy: 0.8366\n",
            "Epoch 102/150\n",
            "52/52 [==============================] - 0s 2ms/step - loss: 0.3642 - accuracy: 0.8327\n",
            "Epoch 103/150\n",
            "52/52 [==============================] - 0s 2ms/step - loss: 0.3635 - accuracy: 0.8327\n",
            "Epoch 104/150\n",
            "52/52 [==============================] - 0s 1ms/step - loss: 0.3633 - accuracy: 0.8366\n",
            "Epoch 105/150\n",
            "52/52 [==============================] - 0s 2ms/step - loss: 0.3613 - accuracy: 0.8405\n",
            "Epoch 106/150\n",
            "52/52 [==============================] - 0s 2ms/step - loss: 0.3619 - accuracy: 0.8307\n",
            "Epoch 107/150\n",
            "52/52 [==============================] - 0s 2ms/step - loss: 0.3609 - accuracy: 0.8346\n",
            "Epoch 108/150\n",
            "52/52 [==============================] - 0s 2ms/step - loss: 0.3619 - accuracy: 0.8385\n",
            "Epoch 109/150\n",
            "52/52 [==============================] - 0s 2ms/step - loss: 0.3602 - accuracy: 0.8366\n",
            "Epoch 110/150\n",
            "52/52 [==============================] - 0s 2ms/step - loss: 0.3591 - accuracy: 0.8307\n",
            "Epoch 111/150\n",
            "52/52 [==============================] - 0s 2ms/step - loss: 0.3584 - accuracy: 0.8366\n",
            "Epoch 112/150\n",
            "52/52 [==============================] - 0s 2ms/step - loss: 0.3583 - accuracy: 0.8405\n",
            "Epoch 113/150\n",
            "52/52 [==============================] - 0s 2ms/step - loss: 0.3569 - accuracy: 0.8346\n",
            "Epoch 114/150\n",
            "52/52 [==============================] - 0s 2ms/step - loss: 0.3571 - accuracy: 0.8346\n",
            "Epoch 115/150\n",
            "52/52 [==============================] - 0s 1ms/step - loss: 0.3549 - accuracy: 0.8346\n",
            "Epoch 116/150\n",
            "52/52 [==============================] - 0s 2ms/step - loss: 0.3555 - accuracy: 0.8405\n",
            "Epoch 117/150\n",
            "52/52 [==============================] - 0s 2ms/step - loss: 0.3545 - accuracy: 0.8424\n",
            "Epoch 118/150\n",
            "52/52 [==============================] - 0s 2ms/step - loss: 0.3539 - accuracy: 0.8327\n",
            "Epoch 119/150\n",
            "52/52 [==============================] - 0s 1ms/step - loss: 0.3545 - accuracy: 0.8405\n",
            "Epoch 120/150\n",
            "52/52 [==============================] - 0s 2ms/step - loss: 0.3525 - accuracy: 0.8424\n",
            "Epoch 121/150\n",
            "52/52 [==============================] - 0s 2ms/step - loss: 0.3522 - accuracy: 0.8405\n",
            "Epoch 122/150\n",
            "52/52 [==============================] - 0s 1ms/step - loss: 0.3505 - accuracy: 0.8405\n",
            "Epoch 123/150\n",
            "52/52 [==============================] - 0s 2ms/step - loss: 0.3505 - accuracy: 0.8405\n",
            "Epoch 124/150\n",
            "52/52 [==============================] - 0s 2ms/step - loss: 0.3503 - accuracy: 0.8366\n",
            "Epoch 125/150\n",
            "52/52 [==============================] - 0s 2ms/step - loss: 0.3490 - accuracy: 0.8366\n",
            "Epoch 126/150\n",
            "52/52 [==============================] - 0s 2ms/step - loss: 0.3490 - accuracy: 0.8405\n",
            "Epoch 127/150\n",
            "52/52 [==============================] - 0s 2ms/step - loss: 0.3493 - accuracy: 0.8366\n",
            "Epoch 128/150\n",
            "52/52 [==============================] - 0s 2ms/step - loss: 0.3462 - accuracy: 0.8424\n",
            "Epoch 129/150\n",
            "52/52 [==============================] - 0s 2ms/step - loss: 0.3461 - accuracy: 0.8385\n",
            "Epoch 130/150\n",
            "52/52 [==============================] - 0s 2ms/step - loss: 0.3468 - accuracy: 0.8366\n",
            "Epoch 131/150\n",
            "52/52 [==============================] - 0s 2ms/step - loss: 0.3439 - accuracy: 0.8366\n",
            "Epoch 132/150\n",
            "52/52 [==============================] - 0s 2ms/step - loss: 0.3442 - accuracy: 0.8366\n",
            "Epoch 133/150\n",
            "52/52 [==============================] - 0s 2ms/step - loss: 0.3453 - accuracy: 0.8385\n",
            "Epoch 134/150\n",
            "52/52 [==============================] - 0s 2ms/step - loss: 0.3438 - accuracy: 0.8405\n",
            "Epoch 135/150\n",
            "52/52 [==============================] - 0s 2ms/step - loss: 0.3420 - accuracy: 0.8405\n",
            "Epoch 136/150\n",
            "52/52 [==============================] - 0s 2ms/step - loss: 0.3420 - accuracy: 0.8327\n",
            "Epoch 137/150\n",
            "52/52 [==============================] - 0s 2ms/step - loss: 0.3410 - accuracy: 0.8346\n",
            "Epoch 138/150\n",
            "52/52 [==============================] - 0s 2ms/step - loss: 0.3410 - accuracy: 0.8405\n",
            "Epoch 139/150\n",
            "52/52 [==============================] - 0s 2ms/step - loss: 0.3405 - accuracy: 0.8482\n",
            "Epoch 140/150\n",
            "52/52 [==============================] - 0s 2ms/step - loss: 0.3395 - accuracy: 0.8405\n",
            "Epoch 141/150\n",
            "52/52 [==============================] - 0s 2ms/step - loss: 0.3398 - accuracy: 0.8502\n",
            "Epoch 142/150\n",
            "52/52 [==============================] - 0s 2ms/step - loss: 0.3378 - accuracy: 0.8405\n",
            "Epoch 143/150\n",
            "52/52 [==============================] - 0s 2ms/step - loss: 0.3394 - accuracy: 0.8405\n",
            "Epoch 144/150\n",
            "52/52 [==============================] - 0s 2ms/step - loss: 0.3377 - accuracy: 0.8424\n",
            "Epoch 145/150\n",
            "52/52 [==============================] - 0s 2ms/step - loss: 0.3373 - accuracy: 0.8424\n",
            "Epoch 146/150\n",
            "52/52 [==============================] - 0s 2ms/step - loss: 0.3360 - accuracy: 0.8444\n",
            "Epoch 147/150\n",
            "52/52 [==============================] - 0s 2ms/step - loss: 0.3364 - accuracy: 0.8405\n",
            "Epoch 148/150\n",
            "52/52 [==============================] - 0s 2ms/step - loss: 0.3355 - accuracy: 0.8502\n",
            "Epoch 149/150\n",
            "52/52 [==============================] - 0s 2ms/step - loss: 0.3359 - accuracy: 0.8424\n",
            "Epoch 150/150\n",
            "52/52 [==============================] - 0s 2ms/step - loss: 0.3352 - accuracy: 0.8482\n"
          ]
        }
      ]
    },
    {
      "cell_type": "code",
      "metadata": {
        "colab": {
          "base_uri": "https://localhost:8080/"
        },
        "id": "kSTFuCDcHgh5",
        "outputId": "7fc5e339-98a9-46e8-edd6-04a53e1ff74b"
      },
      "source": [
        "#prediction and evalution\n",
        "from sklearn.metrics import accuracy_score\n",
        "y_pred = model.predict(X_test)\n",
        "y_pred = np.argmax(y_pred, axis=1)\n",
        "accuracy_score(y_test, y_pred)"
      ],
      "execution_count": null,
      "outputs": [
        {
          "output_type": "execute_result",
          "data": {
            "text/plain": [
              "0.7322834645669292"
            ]
          },
          "metadata": {},
          "execution_count": 50
        }
      ]
    },
    {
      "cell_type": "code",
      "metadata": {
        "colab": {
          "base_uri": "https://localhost:8080/",
          "height": 312
        },
        "id": "vd1_Ca5WKXA6",
        "outputId": "ddcbbd36-2f33-4c2c-b3c4-a9ea9099cbb7"
      },
      "source": [
        "plt.plot(history.history['accuracy'])\n",
        "plt.title('model accuracy')\n",
        "plt.ylabel('accuracy')\n",
        "plt.xlabel('epoch')"
      ],
      "execution_count": null,
      "outputs": [
        {
          "output_type": "execute_result",
          "data": {
            "text/plain": [
              "Text(0.5, 0, 'epoch')"
            ]
          },
          "metadata": {},
          "execution_count": 51
        },
        {
          "output_type": "display_data",
          "data": {
            "image/png": "[encoded data removed]",
            "text/plain": [
              "<Figure size 432x288 with 1 Axes>"
            ]
          },
          "metadata": {
            "needs_background": "light"
          }
        }
      ]
    },
    {
      "cell_type": "code",
      "metadata": {
        "colab": {
          "base_uri": "https://localhost:8080/",
          "height": 312
        },
        "id": "OzwD76rKHgh6",
        "outputId": "9d53864a-e75a-4966-cd85-581cced30b25"
      },
      "source": [
        "#plotting loss against no. of epochs\n",
        "import matplotlib.pyplot as plt\n",
        "plt.plot(history.history['loss'])\n",
        "plt.title('model loss')\n",
        "plt.ylabel('loss')\n",
        "plt.xlabel('epoch')"
      ],
      "execution_count": null,
      "outputs": [
        {
          "output_type": "execute_result",
          "data": {
            "text/plain": [
              "Text(0.5, 0, 'epoch')"
            ]
          },
          "metadata": {},
          "execution_count": 52
        },
        {
          "output_type": "display_data",
          "data": {
            "image/png": "[encoded data removed]",
            "text/plain": [
              "<Figure size 432x288 with 1 Axes>"
            ]
          },
          "metadata": {
            "needs_background": "light"
          }
        }
      ]
    }
  ]
}